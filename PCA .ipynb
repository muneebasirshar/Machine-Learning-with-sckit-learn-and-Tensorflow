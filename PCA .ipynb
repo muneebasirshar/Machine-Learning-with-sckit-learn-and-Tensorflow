{
 "cells": [
  {
   "cell_type": "markdown",
   "metadata": {},
   "source": [
    " PCA = principle component analysis\n",
    "This reduces complexity and avoids overfitting of data.\n",
    "PCA does compression by finding the most important features. \n",
    "All the principle components are orthogonal i.e. they are linearly independent to each other. These do not share any directionality and first component has highest variance means it has more information.\n",
    "Steps Followed:\n",
    "\tOrganize data as n by m matrix, where n is samples and m is features. \n",
    "\tMean center the data\n",
    " X=X-X_mean\n",
    "\tCompute the Singular Value decomposition\n",
    "X=U∑V^T .. eq1\n",
    "U=left signal vector\n",
    "Sigma is diagonal matrix containing singular values\n",
    "V is the right singular vector\n",
    "\tProject the data into new feature space\n",
    "Finding principle components amounts to finding an orthonormal basis that spans the column space of X\n",
    "Feature space will be \n",
    "F=VX\n",
    "Multiply each side of eq 1 by V because V is orthonormal\n",
    "VX= U∑\n",
    "F= U∑\n",
    "Till now we have only projected our data to new place.\n",
    "To reduce or compress sigma we need to work on sigma.\n",
    "So to get the amount of reduction just zero the singular value at the diagonal. Now select the matrix of required dimensionality and the important to work on this from descending order because the initial components contain the most information.\n",
    "\n"
   ]
  },
  {
   "cell_type": "code",
   "execution_count": 18,
   "metadata": {
    "collapsed": true
   },
   "outputs": [],
   "source": [
    "#imports \n",
    "import numpy as np \n",
    "import pandas as pd \n",
    "import matplotlib.pyplot as plt \n",
    "from sklearn import linear_model\n",
    "%matplotlib notebook\n",
    "import sklearn\n",
    "from sklearn.model_selection import train_test_split\n",
    "from sklearn.linear_model import LinearRegression, Ridge, Lasso, ElasticNet\n",
    "import seaborn as sns\n",
    "%matplotlib inline\n",
    "import numpy as np \n",
    "import matplotlib.pyplot as plt\n",
    "from sklearn.decomposition import PCA"
   ]
  },
  {
   "cell_type": "code",
   "execution_count": 30,
   "metadata": {},
   "outputs": [
    {
     "name": "stdout",
     "output_type": "stream",
     "text": [
      "(64, 3)\n",
      "0.999998051749\n"
     ]
    }
   ],
   "source": [
    "DataFile = pd.read_csv('C:/Users/muneeba/Desktop/THESIS/DataDistributionPCA.csv') \n",
    "DataFile=DataFile[:65]\n",
    "DataFile=DataFile.iloc[:,4:60]\n",
    "DataFile.describe()\n",
    "data_frame = pd.DataFrame( DataFile)\n",
    "n_components =2\n",
    "pca_model = PCA(n_components)\n",
    "X_projected = pca_model.fit_transform(data_frame)\n",
    "print(X_projected.shape)\n",
    "print(np.sum(pca_model.explained_variance_ratio_))"
   ]
  },
  {
   "cell_type": "code",
   "execution_count": 25,
   "metadata": {
    "collapsed": true
   },
   "outputs": [],
   "source": [
    "X_reconstructed = pca_model.inverse_transform(X_projected)"
   ]
  },
  {
   "cell_type": "code",
   "execution_count": 38,
   "metadata": {},
   "outputs": [
    {
     "data": {
      "image/png": "[encoded data removed]",
      "text/plain": [
       "<matplotlib.figure.Figure at 0xbc94930358>"
      ]
     },
     "metadata": {},
     "output_type": "display_data"
    },
    {
     "data": {
      "text/plain": [
       "[0.0,\n",
       " 0.42929309888299694,\n",
       " 0.79579935418396464,\n",
       " 0.99999805174867817,\n",
       " 0.99999847571903255,\n",
       " 0.99999881739864038,\n",
       " 0.99999909976821433,\n",
       " 0.99999930273895199,\n",
       " 0.99999944516263783,\n",
       " 0.9999995649068818,\n",
       " 0.99999967176156124,\n",
       " 0.99999974867450536,\n",
       " 0.99999981685197148,\n",
       " 0.99999987086854458,\n",
       " 0.99999991397360899,\n",
       " 0.99999994049519703,\n",
       " 0.99999995649817941,\n",
       " 0.99999997010804231,\n",
       " 0.99999997593690515,\n",
       " 0.99999998084522768,\n",
       " 0.99999998438819915,\n",
       " 0.99999998765155451,\n",
       " 0.9999999901500134,\n",
       " 0.99999999238855375,\n",
       " 0.99999999418124708,\n",
       " 0.99999999558532571,\n",
       " 0.99999999686526819,\n",
       " 0.99999999775487591,\n",
       " 0.99999999841444276,\n",
       " 0.99999999896114988,\n",
       " 0.99999999924115135,\n",
       " 0.99999999943490092,\n",
       " 0.99999999961206953,\n",
       " 0.99999999975367126,\n",
       " 0.99999999981245591,\n",
       " 0.99999999985593757,\n",
       " 0.99999999988939559,\n",
       " 0.99999999991554533,\n",
       " 0.99999999993755329,\n",
       " 0.99999999995861788,\n",
       " 0.99999999997233113,\n",
       " 0.99999999998301647,\n",
       " 0.99999999998943567,\n",
       " 0.99999999999433842,\n",
       " 0.99999999999789368,\n",
       " 0.99999999999945088,\n",
       " 0.99999999999964961,\n",
       " 0.99999999999977784,\n",
       " 0.99999999999984801,\n",
       " 0.99999999999990563,\n",
       " 0.99999999999994482,\n",
       " 0.99999999999996814,\n",
       " 0.99999999999998712,\n",
       " 0.999999999999997,\n",
       " 0.99999999999999978,\n",
       " 1.0]"
      ]
     },
     "execution_count": 38,
     "metadata": {},
     "output_type": "execute_result"
    }
   ],
   "source": [
    "n_components_samples = list(range(0, 56))\n",
    "variances = []\n",
    "for n_components_sample in n_components_samples:\n",
    "    pca_model = PCA(n_components_sample)\n",
    "    X_projected = pca_model.fit_transform(data_frame)\n",
    "    variance=np.sum(pca_model.explained_variance_ratio_)\n",
    "    variances.append(variance)\n",
    "\n",
    "plt.title(\"Tradeoff between Compression and Quality\")\n",
    "plt.xlabel(\"Number of Components\")\n",
    "plt.ylabel(\"Variance Explained Ratio\")\n",
    "plt.plot(n_components_samples, variances)\n",
    "plt.show()\n",
    "variances"
   ]
  },
  {
   "cell_type": "code",
   "execution_count": null,
   "metadata": {
    "collapsed": true
   },
   "outputs": [],
   "source": []
  }
 ],
 "metadata": {
  "kernelspec": {
   "display_name": "Python 3",
   "language": "python",
   "name": "python3"
  },
  "language_info": {
   "codemirror_mode": {
    "name": "ipython",
    "version": 3
   },
   "file_extension": ".py",
   "mimetype": "text/x-python",
   "name": "python",
   "nbconvert_exporter": "python",
   "pygments_lexer": "ipython3",
   "version": "3.6.3"
  }
 },
 "nbformat": 4,
 "nbformat_minor": 2
}
