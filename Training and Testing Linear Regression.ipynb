{
 "cells": [
  {
   "cell_type": "code",
   "execution_count": 1,
   "metadata": {
    "collapsed": true
   },
   "outputs": [],
   "source": [
    "#imports \n",
    "import numpy as np \n",
    "import pandas as pd \n",
    "import matplotlib.pyplot as plt \n",
    "from sklearn import linear_model\n",
    "%matplotlib notebook\n",
    "import sklearn\n",
    "from sklearn.model_selection import train_test_split\n",
    "from sklearn.linear_model import LinearRegression, Ridge, Lasso, ElasticNet\n",
    "import seaborn as sns"
   ]
  },
  {
   "cell_type": "code",
   "execution_count": 112,
   "metadata": {},
   "outputs": [
    {
     "data": {
      "text/html": [
       "<div>\n",
       "<style>\n",
       "    .dataframe thead tr:only-child th {\n",
       "        text-align: right;\n",
       "    }\n",
       "\n",
       "    .dataframe thead th {\n",
       "        text-align: left;\n",
       "    }\n",
       "\n",
       "    .dataframe tbody tr th {\n",
       "        vertical-align: top;\n",
       "    }\n",
       "</style>\n",
       "<table border=\"1\" class=\"dataframe\">\n",
       "  <thead>\n",
       "    <tr style=\"text-align: right;\">\n",
       "      <th></th>\n",
       "      <th>0.2</th>\n",
       "      <th>0.4</th>\n",
       "      <th>0.6</th>\n",
       "      <th>0.8</th>\n",
       "      <th>1</th>\n",
       "      <th>1.2</th>\n",
       "    </tr>\n",
       "  </thead>\n",
       "  <tbody>\n",
       "    <tr>\n",
       "      <th>count</th>\n",
       "      <td>6.400000e+01</td>\n",
       "      <td>6.400000e+01</td>\n",
       "      <td>6.400000e+01</td>\n",
       "      <td>6.400000e+01</td>\n",
       "      <td>6.400000e+01</td>\n",
       "      <td>6.400000e+01</td>\n",
       "    </tr>\n",
       "    <tr>\n",
       "      <th>mean</th>\n",
       "      <td>8.477821e-02</td>\n",
       "      <td>8.197989e-02</td>\n",
       "      <td>7.698065e-02</td>\n",
       "      <td>7.017216e-02</td>\n",
       "      <td>6.172612e-02</td>\n",
       "      <td>5.221328e-02</td>\n",
       "    </tr>\n",
       "    <tr>\n",
       "      <th>std</th>\n",
       "      <td>1.073161e-01</td>\n",
       "      <td>1.037069e-01</td>\n",
       "      <td>9.746982e-02</td>\n",
       "      <td>8.932636e-02</td>\n",
       "      <td>8.016903e-02</td>\n",
       "      <td>7.149178e-02</td>\n",
       "    </tr>\n",
       "    <tr>\n",
       "      <th>min</th>\n",
       "      <td>4.290000e-08</td>\n",
       "      <td>4.170000e-08</td>\n",
       "      <td>3.990000e-08</td>\n",
       "      <td>3.750000e-08</td>\n",
       "      <td>3.470000e-08</td>\n",
       "      <td>3.140000e-08</td>\n",
       "    </tr>\n",
       "    <tr>\n",
       "      <th>25%</th>\n",
       "      <td>2.439750e-03</td>\n",
       "      <td>2.357000e-03</td>\n",
       "      <td>2.203250e-03</td>\n",
       "      <td>1.993750e-03</td>\n",
       "      <td>1.721250e-03</td>\n",
       "      <td>1.417000e-03</td>\n",
       "    </tr>\n",
       "    <tr>\n",
       "      <th>50%</th>\n",
       "      <td>1.965000e-02</td>\n",
       "      <td>1.895000e-02</td>\n",
       "      <td>1.760000e-02</td>\n",
       "      <td>1.570000e-02</td>\n",
       "      <td>1.390000e-02</td>\n",
       "      <td>1.230000e-02</td>\n",
       "    </tr>\n",
       "    <tr>\n",
       "      <th>75%</th>\n",
       "      <td>1.412500e-01</td>\n",
       "      <td>1.357500e-01</td>\n",
       "      <td>1.235000e-01</td>\n",
       "      <td>1.132500e-01</td>\n",
       "      <td>1.075000e-01</td>\n",
       "      <td>8.085000e-02</td>\n",
       "    </tr>\n",
       "    <tr>\n",
       "      <th>max</th>\n",
       "      <td>3.290000e-01</td>\n",
       "      <td>3.200000e-01</td>\n",
       "      <td>3.090000e-01</td>\n",
       "      <td>2.970000e-01</td>\n",
       "      <td>2.830000e-01</td>\n",
       "      <td>2.680000e-01</td>\n",
       "    </tr>\n",
       "  </tbody>\n",
       "</table>\n",
       "</div>"
      ],
      "text/plain": [
       "                0.2           0.4           0.6           0.8             1  \\\n",
       "count  6.400000e+01  6.400000e+01  6.400000e+01  6.400000e+01  6.400000e+01   \n",
       "mean   8.477821e-02  8.197989e-02  7.698065e-02  7.017216e-02  6.172612e-02   \n",
       "std    1.073161e-01  1.037069e-01  9.746982e-02  8.932636e-02  8.016903e-02   \n",
       "min    4.290000e-08  4.170000e-08  3.990000e-08  3.750000e-08  3.470000e-08   \n",
       "25%    2.439750e-03  2.357000e-03  2.203250e-03  1.993750e-03  1.721250e-03   \n",
       "50%    1.965000e-02  1.895000e-02  1.760000e-02  1.570000e-02  1.390000e-02   \n",
       "75%    1.412500e-01  1.357500e-01  1.235000e-01  1.132500e-01  1.075000e-01   \n",
       "max    3.290000e-01  3.200000e-01  3.090000e-01  2.970000e-01  2.830000e-01   \n",
       "\n",
       "                1.2  \n",
       "count  6.400000e+01  \n",
       "mean   5.221328e-02  \n",
       "std    7.149178e-02  \n",
       "min    3.140000e-08  \n",
       "25%    1.417000e-03  \n",
       "50%    1.230000e-02  \n",
       "75%    8.085000e-02  \n",
       "max    2.680000e-01  "
      ]
     },
     "execution_count": 112,
     "metadata": {},
     "output_type": "execute_result"
    }
   ],
   "source": [
    "DataFile = pd.read_csv('C:/Users/muneeba/Desktop/THESIS/DataDistributionPCA.csv') \n",
    "X1=DataFile.iloc[:,0] # sensor IDs\n",
    "DataFile=DataFile[:65]\n",
    "DataFile=DataFile.iloc[:,4:10]\n",
    "Y1=DataFile['0.2']\n",
    "Y2=DataFile['0.4']\n",
    "Y3=DataFile['0.6']\n",
    "Y4=DataFile['0.8']\n",
    "DataFile.describe()"
   ]
  },
  {
   "cell_type": "code",
   "execution_count": null,
   "metadata": {},
   "outputs": [],
   "source": []
  },
  {
   "cell_type": "code",
   "execution_count": 114,
   "metadata": {},
   "outputs": [
    {
     "data": {
      "text/html": [
       "<div>\n",
       "<style>\n",
       "    .dataframe thead tr:only-child th {\n",
       "        text-align: right;\n",
       "    }\n",
       "\n",
       "    .dataframe thead th {\n",
       "        text-align: left;\n",
       "    }\n",
       "\n",
       "    .dataframe tbody tr th {\n",
       "        vertical-align: top;\n",
       "    }\n",
       "</style>\n",
       "<table border=\"1\" class=\"dataframe\">\n",
       "  <thead>\n",
       "    <tr style=\"text-align: right;\">\n",
       "      <th></th>\n",
       "      <th>0.2</th>\n",
       "      <th>0.4</th>\n",
       "      <th>0.6</th>\n",
       "      <th>0.8</th>\n",
       "      <th>1</th>\n",
       "      <th>1.2</th>\n",
       "    </tr>\n",
       "  </thead>\n",
       "  <tbody>\n",
       "    <tr>\n",
       "      <th>0</th>\n",
       "      <td>0.189000</td>\n",
       "      <td>0.184000</td>\n",
       "      <td>0.17600</td>\n",
       "      <td>0.166000</td>\n",
       "      <td>0.153000</td>\n",
       "      <td>0.139000</td>\n",
       "    </tr>\n",
       "    <tr>\n",
       "      <th>1</th>\n",
       "      <td>0.157000</td>\n",
       "      <td>0.153000</td>\n",
       "      <td>0.14600</td>\n",
       "      <td>0.138000</td>\n",
       "      <td>0.127000</td>\n",
       "      <td>0.115000</td>\n",
       "    </tr>\n",
       "    <tr>\n",
       "      <th>2</th>\n",
       "      <td>0.051500</td>\n",
       "      <td>0.050100</td>\n",
       "      <td>0.04790</td>\n",
       "      <td>0.045100</td>\n",
       "      <td>0.041600</td>\n",
       "      <td>0.037700</td>\n",
       "    </tr>\n",
       "    <tr>\n",
       "      <th>3</th>\n",
       "      <td>0.006690</td>\n",
       "      <td>0.006510</td>\n",
       "      <td>0.00622</td>\n",
       "      <td>0.005850</td>\n",
       "      <td>0.005400</td>\n",
       "      <td>0.004880</td>\n",
       "    </tr>\n",
       "    <tr>\n",
       "      <th>4</th>\n",
       "      <td>0.000579</td>\n",
       "      <td>0.000559</td>\n",
       "      <td>0.00052</td>\n",
       "      <td>0.000465</td>\n",
       "      <td>0.000396</td>\n",
       "      <td>0.000317</td>\n",
       "    </tr>\n",
       "  </tbody>\n",
       "</table>\n",
       "</div>"
      ],
      "text/plain": [
       "        0.2       0.4      0.6       0.8         1       1.2\n",
       "0  0.189000  0.184000  0.17600  0.166000  0.153000  0.139000\n",
       "1  0.157000  0.153000  0.14600  0.138000  0.127000  0.115000\n",
       "2  0.051500  0.050100  0.04790  0.045100  0.041600  0.037700\n",
       "3  0.006690  0.006510  0.00622  0.005850  0.005400  0.004880\n",
       "4  0.000579  0.000559  0.00052  0.000465  0.000396  0.000317"
      ]
     },
     "execution_count": 114,
     "metadata": {},
     "output_type": "execute_result"
    }
   ],
   "source": [
    "DataFile.head()"
   ]
  },
  {
   "cell_type": "code",
   "execution_count": 178,
   "metadata": {},
   "outputs": [],
   "source": [
    "data_frame = pd.DataFrame( DataFile)\n",
    "data_frame['0.2']=data_frame['1'] # setting the target\n",
    " "
   ]
  },
  {
   "cell_type": "code",
   "execution_count": 116,
   "metadata": {},
   "outputs": [
    {
     "name": "stdout",
     "output_type": "stream",
     "text": [
      "(64, 5)\n",
      "<class 'pandas.core.frame.DataFrame'>\n"
     ]
    }
   ],
   "source": [
    "X = data_frame.drop('0.2', axis=1)\n",
    "print(X.shape)\n",
    "print(type(X))\n",
    "Y = data_frame['0.2']\n",
    " "
   ]
  },
  {
   "cell_type": "code",
   "execution_count": 135,
   "metadata": {},
   "outputs": [],
   "source": [
    "X_train, X_test, Y_train, Y_test = train_test_split(X, Y, test_size=3/4., random_state=0) # split the data in train and test data\n"
   ]
  },
  {
   "cell_type": "code",
   "execution_count": 177,
   "metadata": {},
   "outputs": [
    {
     "data": {
      "image/png": "[encoded data removed]",
      "text/plain": [
       "<matplotlib.figure.Figure at 0x3685cceb70>"
      ]
     },
     "metadata": {},
     "output_type": "display_data"
    }
   ],
   "source": [
    "from pylab import *\n",
    "subplot(2,2,1)\n",
    "title('first time stamp')\n",
    "xlabel('Sensor ID')\n",
    "ylabel('values')\n",
    "scatter(X1,Y1)\n",
    "subplot(2,2,2)\n",
    "title('second time stamp')\n",
    "xlabel('Sensor ID')\n",
    "ylabel('values')\n",
    "scatter(X1,Y2)\n",
    "subplot(2,2,3)\n",
    "title('third time stamp')\n",
    "xlabel('Sensor ID')\n",
    "ylabel('values')\n",
    "scatter(X1,Y3)\n",
    "subplot(2,2,4)\n",
    "title('fourth time stamp')\n",
    "xlabel('Sensor ID')\n",
    "ylabel('values')\n",
    "scatter(X1,Y4) \n",
    " \n",
    " \n",
    "show()"
   ]
  },
  {
   "cell_type": "code",
   "execution_count": 43,
   "metadata": {
    "collapsed": true
   },
   "outputs": [],
   "source": [
    "lm = LinearRegression() # call method\n",
    "lm.fit(X_train, Y_train) # use values\n",
    "Y_train_pred = lm.predict(X_train)\n",
    "Y_test_pred = lm.predict(X_test)"
   ]
  },
  {
   "cell_type": "code",
   "execution_count": 137,
   "metadata": {},
   "outputs": [
    {
     "name": "stdout",
     "output_type": "stream",
     "text": [
      "Train MSE 9.685311248443454e-33\n",
      "Test MSE 8.857409328800994e-33\n"
     ]
    }
   ],
   "source": [
    "lm = LinearRegression()\n",
    "lm.fit(X_train, Y_train)\n",
    "\n",
    "Y_train_pred = lm.predict(X_train)\n",
    "Y_test_pred = lm.predict(X_test)\n",
    "\n",
    "train_mse = sklearn.metrics.mean_squared_error(Y_train, Y_train_pred)\n",
    "test_mse = sklearn.metrics.mean_squared_error(Y_test, Y_test_pred)\n",
    "print(\"Train MSE {}\".format(train_mse))\n",
    "print(\"Test MSE {}\".format(test_mse))  "
   ]
  },
  {
   "cell_type": "markdown",
   "metadata": {},
   "source": [
    "our test data has much lower error then train data this means we donot have the issue of over fittting \n",
    "once we train our model with the data . it works well with other values"
   ]
  },
  {
   "cell_type": "code",
   "execution_count": 138,
   "metadata": {},
   "outputs": [
    {
     "name": "stdout",
     "output_type": "stream",
     "text": [
      "Train MSE 0.0012575527291109302\n",
      "Test MSE 0.0013909096302125255\n"
     ]
    }
   ],
   "source": [
    "lm = Ridge(alpha=0.5)\n",
    "lm.fit(X_train, Y_train)\n",
    "\n",
    "Y_train_pred = lm.predict(X_train)\n",
    "Y_test_pred = lm.predict(X_test)\n",
    "\n",
    "train_mse = sklearn.metrics.mean_squared_error(Y_train, Y_train_pred)\n",
    "test_mse = sklearn.metrics.mean_squared_error(Y_test, Y_test_pred)\n",
    "print(\"Train MSE {}\".format(train_mse))\n",
    "print(\"Test MSE {}\".format(test_mse))"
   ]
  },
  {
   "cell_type": "markdown",
   "metadata": {},
   "source": [
    "Regularization is comming up with the fact that we donot have all of the data\n",
    "so instead of just summing up the error we also add the sum of model's wieght"
   ]
  },
  {
   "cell_type": "code",
   "execution_count": 142,
   "metadata": {},
   "outputs": [],
   "source": [
    "import csv\n",
    "from sklearn.model_selection import KFold\n",
    "from sklearn.model_selection import GridSearchCV\n",
    " "
   ]
  },
  {
   "cell_type": "markdown",
   "metadata": {},
   "source": [
    "Common Regularization techniques include\n",
    "1. Ridge --- magnitute squred\n",
    "2. Laso -- just wieght\n",
    "3. Elastic regression  --- summing up of above two\n"
   ]
  },
  {
   "cell_type": "code",
   "execution_count": null,
   "metadata": {},
   "outputs": [],
   "source": [
    " "
   ]
  },
  {
   "cell_type": "code",
   "execution_count": 176,
   "metadata": {},
   "outputs": [
    {
     "name": "stdout",
     "output_type": "stream",
     "text": [
      "[ 0.1         0.64444444  1.18888889  1.73333333  2.27777778  2.82222222\n",
      "  3.36666667  3.91111111  4.45555556  5.        ]\n"
     ]
    },
    {
     "data": {
      "image/png": "[encoded data removed]",
      "text/plain": [
       "<matplotlib.figure.Figure at 0x36fa7d8470>"
      ]
     },
     "metadata": {},
     "output_type": "display_data"
    }
   ],
   "source": [
    "%matplotlib inline\n",
    "lm_ridge = Ridge()\n",
    "alphas = np.linspace(0.1, 5, 10)\n",
    "print(alphas)\n",
    "n_folds = 3\n",
    "from pylab import *\n",
    "clf = GridSearchCV(lm_ridge, [{'alpha': alphas}], cv=n_folds)\n",
    "clf.fit(X_train, Y_train)\n",
    "scores = clf.cv_results_['mean_test_score']\n",
    "plt.plot(alphas, scores)\n",
    "plt.show()"
   ]
  },
  {
   "cell_type": "markdown",
   "metadata": {},
   "source": [
    "if our data is in the form that does not give any significant value then one-hot encoding can be done. for this explore get-dummy data in sklearn "
   ]
  },
  {
   "cell_type": "code",
   "execution_count": null,
   "metadata": {
    "collapsed": true
   },
   "outputs": [],
   "source": []
  }
 ],
 "metadata": {
  "kernelspec": {
   "display_name": "Python 3",
   "language": "python",
   "name": "python3"
  },
  "language_info": {
   "codemirror_mode": {
    "name": "ipython",
    "version": 3
   },
   "file_extension": ".py",
   "mimetype": "text/x-python",
   "name": "python",
   "nbconvert_exporter": "python",
   "pygments_lexer": "ipython3",
   "version": "3.6.3"
  }
 },
 "nbformat": 4,
 "nbformat_minor": 2
}
