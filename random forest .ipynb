{
 "cells": [
  {
   "cell_type": "markdown",
   "metadata": {},
   "source": [
    "choosing the first node can be tricky because all other decisions are based on it so random forest creates multiple trees and take the mod i.e. the majority.\n"
   ]
  },
  {
   "cell_type": "markdown",
   "metadata": {},
   "source": [
    "for the cases such as bank fraud where the case of interest is a very rare event accuray does not give a meaning to analysis. this is because such a model will always almost give positive results. so measures like precision and recall are taken acount account. precision = tp/(tp+fp) where tp=true positive, fp= false positive. Recall=tp/(tp+fn) where fn=false negitive. After finding this the F1 score is found. this is particularly useful for data sets that have very less positive cases. F1 score combines precision and recall. Another useful matric is AUC. AUC is the area under the curve under all test sets. this gives a better insight about how well should our model work for real case scenarios."
   ]
  },
  {
   "cell_type": "code",
   "execution_count": null,
   "metadata": {
    "collapsed": true
   },
   "outputs": [],
   "source": []
  }
 ],
 "metadata": {
  "kernelspec": {
   "display_name": "Python 3",
   "language": "python",
   "name": "python3"
  },
  "language_info": {
   "codemirror_mode": {
    "name": "ipython",
    "version": 3
   },
   "file_extension": ".py",
   "mimetype": "text/x-python",
   "name": "python",
   "nbconvert_exporter": "python",
   "pygments_lexer": "ipython3",
   "version": "3.6.3"
  }
 },
 "nbformat": 4,
 "nbformat_minor": 2
}
